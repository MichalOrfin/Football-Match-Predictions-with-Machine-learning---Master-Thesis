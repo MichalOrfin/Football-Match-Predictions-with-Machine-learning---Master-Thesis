{
 "cells": [
  {
   "cell_type": "code",
   "execution_count": 1,
   "id": "be8e2d6d",
   "metadata": {},
   "outputs": [],
   "source": [
    "import requests"
   ]
  },
  {
   "cell_type": "code",
   "execution_count": 2,
   "id": "443ef6e6",
   "metadata": {},
   "outputs": [],
   "source": [
    "standings_url = \"https://fbref.com/en/comps/9/Premier-League-Stats\""
   ]
  },
  {
   "cell_type": "code",
   "execution_count": 3,
   "id": "5bb0b39a",
   "metadata": {},
   "outputs": [],
   "source": [
    "data = requests.get(standings_url)"
   ]
  },
  {
   "cell_type": "code",
   "execution_count": 4,
   "id": "e56c06de",
   "metadata": {},
   "outputs": [],
   "source": [
    "from bs4 import BeautifulSoup as bs"
   ]
  },
  {
   "cell_type": "code",
   "execution_count": 5,
   "id": "cb26c484",
   "metadata": {},
   "outputs": [],
   "source": [
    "soup = bs(data.text)"
   ]
  },
  {
   "cell_type": "code",
   "execution_count": 6,
   "id": "4b3b0acd",
   "metadata": {},
   "outputs": [],
   "source": [
    "standings_table = soup.select('table.stats_table')[0]"
   ]
  },
  {
   "cell_type": "code",
   "execution_count": 7,
   "id": "f500687f",
   "metadata": {},
   "outputs": [],
   "source": [
    "links = standings_table.find_all('a')"
   ]
  },
  {
   "cell_type": "code",
   "execution_count": 8,
   "id": "461fa309",
   "metadata": {},
   "outputs": [],
   "source": [
    "links = [l.get(\"href\") for l in links]"
   ]
  },
  {
   "cell_type": "code",
   "execution_count": 9,
   "id": "01a37927",
   "metadata": {},
   "outputs": [],
   "source": [
    "links = [l for l in links if '/squads/' in l]"
   ]
  },
  {
   "cell_type": "code",
   "execution_count": 10,
   "id": "1783fe61",
   "metadata": {},
   "outputs": [],
   "source": [
    "team_urls= [f\"https://fbref.com{l}\" for l in links]"
   ]
  },
  {
   "cell_type": "code",
   "execution_count": 11,
   "id": "90596e99",
   "metadata": {},
   "outputs": [
    {
     "data": {
      "text/plain": [
       "['https://fbref.com/en/squads/b8fd03ef/Manchester-City-Stats',\n",
       " 'https://fbref.com/en/squads/18bb7c10/Arsenal-Stats',\n",
       " 'https://fbref.com/en/squads/19538871/Manchester-United-Stats',\n",
       " 'https://fbref.com/en/squads/b2b47a98/Newcastle-United-Stats',\n",
       " 'https://fbref.com/en/squads/822bd0ba/Liverpool-Stats',\n",
       " 'https://fbref.com/en/squads/d07537b9/Brighton-and-Hove-Albion-Stats',\n",
       " 'https://fbref.com/en/squads/8602292d/Aston-Villa-Stats',\n",
       " 'https://fbref.com/en/squads/361ca564/Tottenham-Hotspur-Stats',\n",
       " 'https://fbref.com/en/squads/cd051869/Brentford-Stats',\n",
       " 'https://fbref.com/en/squads/fd962109/Fulham-Stats',\n",
       " 'https://fbref.com/en/squads/47c64c55/Crystal-Palace-Stats',\n",
       " 'https://fbref.com/en/squads/cff3d9bb/Chelsea-Stats',\n",
       " 'https://fbref.com/en/squads/8cec06e1/Wolverhampton-Wanderers-Stats',\n",
       " 'https://fbref.com/en/squads/7c21e445/West-Ham-United-Stats',\n",
       " 'https://fbref.com/en/squads/4ba7cbea/Bournemouth-Stats',\n",
       " 'https://fbref.com/en/squads/e4a775cb/Nottingham-Forest-Stats',\n",
       " 'https://fbref.com/en/squads/d3fd31cc/Everton-Stats',\n",
       " 'https://fbref.com/en/squads/a2d435b3/Leicester-City-Stats',\n",
       " 'https://fbref.com/en/squads/5bfb9659/Leeds-United-Stats',\n",
       " 'https://fbref.com/en/squads/33c895d4/Southampton-Stats']"
      ]
     },
     "execution_count": 11,
     "metadata": {},
     "output_type": "execute_result"
    }
   ],
   "source": [
    "team_url = team_urls[0]\n",
    "team_urls"
   ]
  },
  {
   "cell_type": "code",
   "execution_count": 12,
   "id": "2f567767",
   "metadata": {},
   "outputs": [],
   "source": [
    "data = requests.get(team_url)"
   ]
  },
  {
   "cell_type": "code",
   "execution_count": 13,
   "id": "bec177b9",
   "metadata": {},
   "outputs": [],
   "source": [
    "import pandas as pd"
   ]
  },
  {
   "cell_type": "code",
   "execution_count": 14,
   "id": "61be94c5",
   "metadata": {},
   "outputs": [],
   "source": [
    "matches = pd.read_html(data.text, match=\"Scores & Fixtures\")"
   ]
  },
  {
   "cell_type": "code",
   "execution_count": 15,
   "id": "71d1b577",
   "metadata": {},
   "outputs": [],
   "source": [
    "soup = bs(data.text)"
   ]
  },
  {
   "cell_type": "code",
   "execution_count": 16,
   "id": "db006cb4",
   "metadata": {},
   "outputs": [],
   "source": [
    "links = soup.find_all('a')"
   ]
  },
  {
   "cell_type": "code",
   "execution_count": 17,
   "id": "366961a1",
   "metadata": {},
   "outputs": [],
   "source": [
    "links = [l.get(\"href\") for l in links]"
   ]
  },
  {
   "cell_type": "code",
   "execution_count": 18,
   "id": "11804fbc",
   "metadata": {},
   "outputs": [],
   "source": [
    "links = list(set([l for l in links if l and 'matchlogs/all_comps/' in l]))"
   ]
  },
  {
   "cell_type": "code",
   "execution_count": 19,
   "id": "91117c38",
   "metadata": {},
   "outputs": [],
   "source": [
    "links.sort()"
   ]
  },
  {
   "cell_type": "code",
   "execution_count": 20,
   "id": "7ba87798",
   "metadata": {},
   "outputs": [
    {
     "data": {
      "text/plain": [
       "['/en/squads/b8fd03ef/2022-2023/matchlogs/all_comps/defense/Manchester-City-Match-Logs-All-Competitions',\n",
       " '/en/squads/b8fd03ef/2022-2023/matchlogs/all_comps/gca/Manchester-City-Match-Logs-All-Competitions',\n",
       " '/en/squads/b8fd03ef/2022-2023/matchlogs/all_comps/keeper/Manchester-City-Match-Logs-All-Competitions',\n",
       " '/en/squads/b8fd03ef/2022-2023/matchlogs/all_comps/misc/Manchester-City-Match-Logs-All-Competitions',\n",
       " '/en/squads/b8fd03ef/2022-2023/matchlogs/all_comps/passing/Manchester-City-Match-Logs-All-Competitions',\n",
       " '/en/squads/b8fd03ef/2022-2023/matchlogs/all_comps/passing_types/Manchester-City-Match-Logs-All-Competitions',\n",
       " '/en/squads/b8fd03ef/2022-2023/matchlogs/all_comps/possession/Manchester-City-Match-Logs-All-Competitions',\n",
       " '/en/squads/b8fd03ef/2022-2023/matchlogs/all_comps/schedule/Manchester-City-Scores-and-Fixtures-All-Competitions',\n",
       " '/en/squads/b8fd03ef/2022-2023/matchlogs/all_comps/shooting/Manchester-City-Match-Logs-All-Competitions']"
      ]
     },
     "execution_count": 20,
     "metadata": {},
     "output_type": "execute_result"
    }
   ],
   "source": [
    "links"
   ]
  },
  {
   "cell_type": "code",
   "execution_count": 21,
   "id": "96ef100d",
   "metadata": {},
   "outputs": [],
   "source": [
    "data_shooting = requests.get(f\"https://fbref.com{links[8]}\")\n",
    "shooting = pd.read_html(data_shooting.text, match=\"Shooting\")[0]\n",
    "shooting.columns = shooting.columns.droplevel()"
   ]
  },
  {
   "cell_type": "code",
   "execution_count": 22,
   "id": "20422e6f",
   "metadata": {},
   "outputs": [],
   "source": [
    "data_gca = requests.get(f\"https://fbref.com{links[1]}\")\n",
    "gca = pd.read_html(data_gca.text,match=\"Goal and Shot Creation\")[0]\n",
    "gca.columns = gca.columns.droplevel()"
   ]
  },
  {
   "cell_type": "code",
   "execution_count": 23,
   "id": "f3ba6d49",
   "metadata": {},
   "outputs": [],
   "source": [
    "data_pt = requests.get(f\"https://fbref.com{links[5]}\")\n",
    "pt = pd.read_html(data_pt.text,match=\"Pass Types\")[0]\n",
    "pt.columns = pt.columns.droplevel()"
   ]
  },
  {
   "cell_type": "code",
   "execution_count": 24,
   "id": "23f7ca53",
   "metadata": {},
   "outputs": [],
   "source": [
    "data_poss = requests.get(f\"https://fbref.com{links[6]}\")\n",
    "poss = pd.read_html(data_poss.text,match=\"Possession\")[0]\n",
    "poss.columns = poss.columns.droplevel()"
   ]
  },
  {
   "cell_type": "code",
   "execution_count": 25,
   "id": "2ee19655",
   "metadata": {},
   "outputs": [],
   "source": [
    "data_def = requests.get(f\"https://fbref.com{links[0]}\")\n",
    "defence = pd.read_html(data_def.text,match=\"Defensive Actions\")[0]\n",
    "defence.columns = defence.columns.droplevel()"
   ]
  },
  {
   "cell_type": "code",
   "execution_count": 26,
   "id": "c59be01d",
   "metadata": {},
   "outputs": [],
   "source": [
    "data_pass = requests.get(f\"https://fbref.com{links[4]}\")\n",
    "passing = pd.read_html(data_pass.text,match=\"Passing\")[0]\n",
    "passing.columns = passing.columns.droplevel()"
   ]
  },
  {
   "cell_type": "code",
   "execution_count": 27,
   "id": "901c005e",
   "metadata": {},
   "outputs": [],
   "source": [
    "data_gk = requests.get(f\"https://fbref.com{links[2]}\")\n",
    "gk = pd.read_html(data_gk.text,match=\"Goalkeeping\")[0]\n",
    "gk.columns = gk.columns.droplevel()"
   ]
  },
  {
   "cell_type": "code",
   "execution_count": 28,
   "id": "f2a0a0ca",
   "metadata": {},
   "outputs": [],
   "source": [
    "data_misc = requests.get(f\"https://fbref.com{links[3]}\")\n",
    "misc = pd.read_html(data_misc.text,match=\"Miscellaneous Stats\")[0]\n",
    "misc.columns = misc.columns.droplevel()"
   ]
  },
  {
   "cell_type": "code",
   "execution_count": 39,
   "id": "331955b7",
   "metadata": {},
   "outputs": [],
   "source": [
    "team_data = pd.merge(\n",
    "    pd.merge(\n",
    "        pd.merge(\n",
    "            pd.merge(\n",
    "                pd.merge(\n",
    "                    pd.merge(\n",
    "                        pd.merge(\n",
    "                            pd.merge(matches[0],shooting[[\"Date\", \"Sh\", \"SoT\", \"Dist\", \"FK\", \"PK\", \"PKatt\"]], on=\"Date\"),\n",
    "                            gca[[\"Date\",\"SCA\",\"GCA\"]],on=\"Date\"),\n",
    "                        pt[[\"Date\",\"Att\",\"Cmp\"]], on=\"Date\"),\n",
    "                    poss[[\"Date\",\"Poss\",\"Def Pen\",\"Def 3rd\",\"Mid 3rd\",\"Att 3rd\",\"Att Pen\", \"PrgC\", \"1/3\",\"CPA\"]], on=\"Date\"),\n",
    "                defence[[\"Date\",\"Tkl\",\"Blocks\",\"Int\"]], on=\"Date\"),\n",
    "            passing[[\"Date\",\"KP\",\"1/3\",\"PrgP\"]], on=\"Date\"),\n",
    "        gk[[\"Date\",\"Saves\"]], on=\"Date\"),\n",
    "    misc[[\"Date\",\"CrdY\",\"CrdR\",\"Fls\",\"Fld\",\"Off\"]], on=\"Date\")"
   ]
  },
  {
   "cell_type": "code",
   "execution_count": 40,
   "id": "2b93015e",
   "metadata": {},
   "outputs": [
    {
     "data": {
      "text/html": [
       "<div>\n",
       "<style scoped>\n",
       "    .dataframe tbody tr th:only-of-type {\n",
       "        vertical-align: middle;\n",
       "    }\n",
       "\n",
       "    .dataframe tbody tr th {\n",
       "        vertical-align: top;\n",
       "    }\n",
       "\n",
       "    .dataframe thead th {\n",
       "        text-align: right;\n",
       "    }\n",
       "</style>\n",
       "<table border=\"1\" class=\"dataframe\">\n",
       "  <thead>\n",
       "    <tr style=\"text-align: right;\">\n",
       "      <th></th>\n",
       "      <th>Date</th>\n",
       "      <th>Time</th>\n",
       "      <th>Comp</th>\n",
       "      <th>Round</th>\n",
       "      <th>Day</th>\n",
       "      <th>Venue</th>\n",
       "      <th>Result</th>\n",
       "      <th>GF</th>\n",
       "      <th>GA</th>\n",
       "      <th>Opponent</th>\n",
       "      <th>...</th>\n",
       "      <th>Int</th>\n",
       "      <th>KP</th>\n",
       "      <th>1/3_y</th>\n",
       "      <th>PrgP</th>\n",
       "      <th>Saves</th>\n",
       "      <th>CrdY</th>\n",
       "      <th>CrdR</th>\n",
       "      <th>Fls</th>\n",
       "      <th>Fld</th>\n",
       "      <th>Off</th>\n",
       "    </tr>\n",
       "  </thead>\n",
       "  <tbody>\n",
       "    <tr>\n",
       "      <th>0</th>\n",
       "      <td>2021-08-14</td>\n",
       "      <td>17:30</td>\n",
       "      <td>Premier League</td>\n",
       "      <td>Matchweek 1</td>\n",
       "      <td>Sat</td>\n",
       "      <td>Home</td>\n",
       "      <td>L</td>\n",
       "      <td>0</td>\n",
       "      <td>3</td>\n",
       "      <td>Liverpool</td>\n",
       "      <td>...</td>\n",
       "      <td>9</td>\n",
       "      <td>11.0</td>\n",
       "      <td>23.0</td>\n",
       "      <td>29.0</td>\n",
       "      <td>3</td>\n",
       "      <td>1</td>\n",
       "      <td>0</td>\n",
       "      <td>4</td>\n",
       "      <td>14</td>\n",
       "      <td>2</td>\n",
       "    </tr>\n",
       "    <tr>\n",
       "      <th>1</th>\n",
       "      <td>2021-08-21</td>\n",
       "      <td>15:00</td>\n",
       "      <td>Premier League</td>\n",
       "      <td>Matchweek 2</td>\n",
       "      <td>Sat</td>\n",
       "      <td>Away</td>\n",
       "      <td>L</td>\n",
       "      <td>0</td>\n",
       "      <td>5</td>\n",
       "      <td>Manchester City</td>\n",
       "      <td>...</td>\n",
       "      <td>8</td>\n",
       "      <td>0.0</td>\n",
       "      <td>5.0</td>\n",
       "      <td>13.0</td>\n",
       "      <td>0</td>\n",
       "      <td>0</td>\n",
       "      <td>0</td>\n",
       "      <td>7</td>\n",
       "      <td>13</td>\n",
       "      <td>3</td>\n",
       "    </tr>\n",
       "    <tr>\n",
       "      <th>2</th>\n",
       "      <td>2021-08-24</td>\n",
       "      <td>19:00</td>\n",
       "      <td>EFL Cup</td>\n",
       "      <td>Second round</td>\n",
       "      <td>Tue</td>\n",
       "      <td>Home</td>\n",
       "      <td>W</td>\n",
       "      <td>6</td>\n",
       "      <td>0</td>\n",
       "      <td>Bournemouth</td>\n",
       "      <td>...</td>\n",
       "      <td>7</td>\n",
       "      <td>NaN</td>\n",
       "      <td>NaN</td>\n",
       "      <td>NaN</td>\n",
       "      <td>1</td>\n",
       "      <td>1</td>\n",
       "      <td>0</td>\n",
       "      <td>10</td>\n",
       "      <td>9</td>\n",
       "      <td>1</td>\n",
       "    </tr>\n",
       "    <tr>\n",
       "      <th>3</th>\n",
       "      <td>2021-08-28</td>\n",
       "      <td>15:00</td>\n",
       "      <td>Premier League</td>\n",
       "      <td>Matchweek 3</td>\n",
       "      <td>Sat</td>\n",
       "      <td>Home</td>\n",
       "      <td>L</td>\n",
       "      <td>1</td>\n",
       "      <td>2</td>\n",
       "      <td>Leicester City</td>\n",
       "      <td>...</td>\n",
       "      <td>15</td>\n",
       "      <td>8.0</td>\n",
       "      <td>16.0</td>\n",
       "      <td>26.0</td>\n",
       "      <td>1</td>\n",
       "      <td>2</td>\n",
       "      <td>0</td>\n",
       "      <td>8</td>\n",
       "      <td>9</td>\n",
       "      <td>2</td>\n",
       "    </tr>\n",
       "    <tr>\n",
       "      <th>4</th>\n",
       "      <td>2021-09-11</td>\n",
       "      <td>15:00</td>\n",
       "      <td>Premier League</td>\n",
       "      <td>Matchweek 4</td>\n",
       "      <td>Sat</td>\n",
       "      <td>Away</td>\n",
       "      <td>L</td>\n",
       "      <td>0</td>\n",
       "      <td>1</td>\n",
       "      <td>Arsenal</td>\n",
       "      <td>...</td>\n",
       "      <td>8</td>\n",
       "      <td>7.0</td>\n",
       "      <td>18.0</td>\n",
       "      <td>26.0</td>\n",
       "      <td>5</td>\n",
       "      <td>2</td>\n",
       "      <td>0</td>\n",
       "      <td>11</td>\n",
       "      <td>9</td>\n",
       "      <td>0</td>\n",
       "    </tr>\n",
       "  </tbody>\n",
       "</table>\n",
       "<p>5 rows × 51 columns</p>\n",
       "</div>"
      ],
      "text/plain": [
       "         Date   Time            Comp         Round  Day Venue Result  GF  GA  \\\n",
       "0  2021-08-14  17:30  Premier League   Matchweek 1  Sat  Home      L   0   3   \n",
       "1  2021-08-21  15:00  Premier League   Matchweek 2  Sat  Away      L   0   5   \n",
       "2  2021-08-24  19:00         EFL Cup  Second round  Tue  Home      W   6   0   \n",
       "3  2021-08-28  15:00  Premier League   Matchweek 3  Sat  Home      L   1   2   \n",
       "4  2021-09-11  15:00  Premier League   Matchweek 4  Sat  Away      L   0   1   \n",
       "\n",
       "          Opponent  ...  Int    KP  1/3_y  PrgP Saves CrdY CrdR Fls  Fld  Off  \n",
       "0        Liverpool  ...    9  11.0   23.0  29.0     3    1    0   4   14    2  \n",
       "1  Manchester City  ...    8   0.0    5.0  13.0     0    0    0   7   13    3  \n",
       "2      Bournemouth  ...    7   NaN    NaN   NaN     1    1    0  10    9    1  \n",
       "3   Leicester City  ...   15   8.0   16.0  26.0     1    2    0   8    9    2  \n",
       "4          Arsenal  ...    8   7.0   18.0  26.0     5    2    0  11    9    0  \n",
       "\n",
       "[5 rows x 51 columns]"
      ]
     },
     "execution_count": 40,
     "metadata": {},
     "output_type": "execute_result"
    }
   ],
   "source": [
    "team_data.head()"
   ]
  },
  {
   "cell_type": "code",
   "execution_count": 41,
   "id": "ce6d4971",
   "metadata": {},
   "outputs": [],
   "source": [
    "years = list(range(2023,2021,-1))"
   ]
  },
  {
   "cell_type": "code",
   "execution_count": 42,
   "id": "db7bbbbc",
   "metadata": {},
   "outputs": [],
   "source": [
    "all_matches = []"
   ]
  },
  {
   "cell_type": "code",
   "execution_count": 43,
   "id": "5534640e",
   "metadata": {},
   "outputs": [],
   "source": [
    "standings_url = \"https://fbref.com/en/comps/9/Premier-League-Stats\""
   ]
  },
  {
   "cell_type": "code",
   "execution_count": 45,
   "id": "615dbf2d",
   "metadata": {},
   "outputs": [],
   "source": [
    "import time\n",
    "\n",
    "for year in years: \n",
    "    data = requests.get(standings_url)\n",
    "    soup = bs(data.text)\n",
    "    standings_table = soup.select('table.stats_table')[0]\n",
    "    \n",
    "    links = [l.get(\"href\") for l in standings_table.find_all('a')]\n",
    "    links = [l for l in links if '/squads/' in l]\n",
    "    team_urls= [f\"https://fbref.com{l}\" for l in links]\n",
    "    \n",
    "    previous_season = soup.select(\"a.prev\")[0].get(\"href\")\n",
    "    standings_url = f\"https://fbref.com/{previous_season}\"\n",
    "    \n",
    "    for team_url in team_urls:\n",
    "        team_name = team_url.split(\"/\")[-1].replace(\"-Stats\",\"\").replace(\"-\",\" \")\n",
    "        \n",
    "        data = requests.get(team_url)\n",
    "        matches = pd.read_html(data.text, match=\"Scores & Fixtures\")\n",
    "        \n",
    "        soup = bs(data.text)\n",
    "        links = [l.get(\"href\") for l in soup.find_all('a')]\n",
    "        links = list(set([l for l in links if l and 'matchlogs/all_comps/' in l]))\n",
    "        links.sort()\n",
    "        time.sleep(2)\n",
    "        data_shooting = requests.get(f\"https://fbref.com{links[8]}\")\n",
    "        shooting = pd.read_html(data_shooting.text, match=\"Shooting\")[0]\n",
    "        shooting.columns = shooting.columns.droplevel()\n",
    "        time.sleep(2)\n",
    "        data_gca = requests.get(f\"https://fbref.com{links[1]}\")\n",
    "        gca = pd.read_html(data_gca.text,match=\"Goal and Shot Creation\")[0]\n",
    "        gca.columns = gca.columns.droplevel()\n",
    "        time.sleep(2)\n",
    "        data_pt = requests.get(f\"https://fbref.com{links[5]}\")\n",
    "        pt = pd.read_html(data_pt.text,match=\"Pass Types\")[0]\n",
    "        pt.columns = pt.columns.droplevel()\n",
    "        time.sleep(2)\n",
    "        data_poss = requests.get(f\"https://fbref.com{links[6]}\")\n",
    "        poss = pd.read_html(data_poss.text,match=\"Possession\")[0]\n",
    "        poss.columns = poss.columns.droplevel()\n",
    "        time.sleep(2)\n",
    "        data_def = requests.get(f\"https://fbref.com{links[0]}\")\n",
    "        defence = pd.read_html(data_def.text,match=\"Defensive Actions\")[0]\n",
    "        defence.columns = defence.columns.droplevel()\n",
    "        time.sleep(2)\n",
    "        data_pass = requests.get(f\"https://fbref.com{links[4]}\")\n",
    "        passing = pd.read_html(data_pass.text,match=\"Passing\")[0]\n",
    "        passing.columns = passing.columns.droplevel()\n",
    "        time.sleep(2)\n",
    "        data_gk = requests.get(f\"https://fbref.com{links[2]}\")\n",
    "        gk = pd.read_html(data_gk.text,match=\"Goalkeeping\")[0]\n",
    "        gk.columns = gk.columns.droplevel()\n",
    "        time.sleep(2)\n",
    "        data_misc = requests.get(f\"https://fbref.com{links[3]}\")\n",
    "        misc = pd.read_html(data_misc.text,match=\"Miscellaneous Stats\")[0]\n",
    "        misc.columns = misc.columns.droplevel()\n",
    "        time.sleep(2)\n",
    "        try:\n",
    "            team_data = pd.merge(\n",
    "                pd.merge(\n",
    "                    pd.merge(\n",
    "                        pd.merge(\n",
    "                            pd.merge(\n",
    "                                pd.merge(\n",
    "                                    pd.merge(\n",
    "                                        pd.merge(matches[0],shooting[[\"Date\", \"Sh\", \"SoT\", \"Dist\", \"FK\", \"PK\", \"PKatt\"]], on=\"Date\"),\n",
    "                                        gca[[\"Date\",\"SCA\",\"GCA\"]],on=\"Date\"),\n",
    "                                    pt[[\"Date\",\"Att\",\"Cmp\"]], on=\"Date\"),\n",
    "                                poss[[\"Date\",\"Poss\",\"Def Pen\",\"Def 3rd\",\"Mid 3rd\",\"Att 3rd\",\"Att Pen\", \"PrgC\", \"1/3\",\"CPA\"]], on=\"Date\"),\n",
    "                            defence[[\"Date\",\"Tkl\",\"Blocks\",\"Int\"]], on=\"Date\"),\n",
    "                        passing[[\"Date\",\"KP\",\"1/3\",\"PrgP\"]], on=\"Date\"),\n",
    "                    gk[[\"Date\",\"Saves\"]], on=\"Date\"),\n",
    "                misc[[\"Date\",\"CrdY\",\"CrdR\",\"Fls\",\"Fld\",\"Off\"]], on=\"Date\")\n",
    "        except ValueError(\"No tables found\"):\n",
    "            continue\n",
    "        \n",
    "        team_data = team_data[team_data[\"Comp\"] == \"Premier League\"]\n",
    "        team_data[\"Season\"] = year\n",
    "        team_data[\"Team\"] = team_name\n",
    "        all_matches.append(team_data)\n",
    "        time.sleep(10)"
   ]
  },
  {
   "cell_type": "code",
   "execution_count": 46,
   "id": "e17adca4",
   "metadata": {},
   "outputs": [
    {
     "ename": "InvalidIndexError",
     "evalue": "Reindexing only valid with uniquely valued Index objects",
     "output_type": "error",
     "traceback": [
      "\u001b[1;31m---------------------------------------------------------------------------\u001b[0m",
      "\u001b[1;31mInvalidIndexError\u001b[0m                         Traceback (most recent call last)",
      "\u001b[1;32m~\\AppData\\Local\\Temp\\ipykernel_2196\\1038863932.py\u001b[0m in \u001b[0;36m<module>\u001b[1;34m\u001b[0m\n\u001b[1;32m----> 1\u001b[1;33m \u001b[0mmatch_df\u001b[0m \u001b[1;33m=\u001b[0m \u001b[0mpd\u001b[0m\u001b[1;33m.\u001b[0m\u001b[0mconcat\u001b[0m\u001b[1;33m(\u001b[0m\u001b[0mall_matches\u001b[0m\u001b[1;33m)\u001b[0m\u001b[1;33m\u001b[0m\u001b[1;33m\u001b[0m\u001b[0m\n\u001b[0m",
      "\u001b[1;32mD:\\Program Files\\Anaconda\\lib\\site-packages\\pandas\\util\\_decorators.py\u001b[0m in \u001b[0;36mwrapper\u001b[1;34m(*args, **kwargs)\u001b[0m\n\u001b[0;32m    309\u001b[0m                     \u001b[0mstacklevel\u001b[0m\u001b[1;33m=\u001b[0m\u001b[0mstacklevel\u001b[0m\u001b[1;33m,\u001b[0m\u001b[1;33m\u001b[0m\u001b[1;33m\u001b[0m\u001b[0m\n\u001b[0;32m    310\u001b[0m                 )\n\u001b[1;32m--> 311\u001b[1;33m             \u001b[1;32mreturn\u001b[0m \u001b[0mfunc\u001b[0m\u001b[1;33m(\u001b[0m\u001b[1;33m*\u001b[0m\u001b[0margs\u001b[0m\u001b[1;33m,\u001b[0m \u001b[1;33m**\u001b[0m\u001b[0mkwargs\u001b[0m\u001b[1;33m)\u001b[0m\u001b[1;33m\u001b[0m\u001b[1;33m\u001b[0m\u001b[0m\n\u001b[0m\u001b[0;32m    312\u001b[0m \u001b[1;33m\u001b[0m\u001b[0m\n\u001b[0;32m    313\u001b[0m         \u001b[1;32mreturn\u001b[0m \u001b[0mwrapper\u001b[0m\u001b[1;33m\u001b[0m\u001b[1;33m\u001b[0m\u001b[0m\n",
      "\u001b[1;32mD:\\Program Files\\Anaconda\\lib\\site-packages\\pandas\\core\\reshape\\concat.py\u001b[0m in \u001b[0;36mconcat\u001b[1;34m(objs, axis, join, ignore_index, keys, levels, names, verify_integrity, sort, copy)\u001b[0m\n\u001b[0;32m    358\u001b[0m     )\n\u001b[0;32m    359\u001b[0m \u001b[1;33m\u001b[0m\u001b[0m\n\u001b[1;32m--> 360\u001b[1;33m     \u001b[1;32mreturn\u001b[0m \u001b[0mop\u001b[0m\u001b[1;33m.\u001b[0m\u001b[0mget_result\u001b[0m\u001b[1;33m(\u001b[0m\u001b[1;33m)\u001b[0m\u001b[1;33m\u001b[0m\u001b[1;33m\u001b[0m\u001b[0m\n\u001b[0m\u001b[0;32m    361\u001b[0m \u001b[1;33m\u001b[0m\u001b[0m\n\u001b[0;32m    362\u001b[0m \u001b[1;33m\u001b[0m\u001b[0m\n",
      "\u001b[1;32mD:\\Program Files\\Anaconda\\lib\\site-packages\\pandas\\core\\reshape\\concat.py\u001b[0m in \u001b[0;36mget_result\u001b[1;34m(self)\u001b[0m\n\u001b[0;32m    589\u001b[0m                     \u001b[0mobj_labels\u001b[0m \u001b[1;33m=\u001b[0m \u001b[0mobj\u001b[0m\u001b[1;33m.\u001b[0m\u001b[0maxes\u001b[0m\u001b[1;33m[\u001b[0m\u001b[1;36m1\u001b[0m \u001b[1;33m-\u001b[0m \u001b[0max\u001b[0m\u001b[1;33m]\u001b[0m\u001b[1;33m\u001b[0m\u001b[1;33m\u001b[0m\u001b[0m\n\u001b[0;32m    590\u001b[0m                     \u001b[1;32mif\u001b[0m \u001b[1;32mnot\u001b[0m \u001b[0mnew_labels\u001b[0m\u001b[1;33m.\u001b[0m\u001b[0mequals\u001b[0m\u001b[1;33m(\u001b[0m\u001b[0mobj_labels\u001b[0m\u001b[1;33m)\u001b[0m\u001b[1;33m:\u001b[0m\u001b[1;33m\u001b[0m\u001b[1;33m\u001b[0m\u001b[0m\n\u001b[1;32m--> 591\u001b[1;33m                         \u001b[0mindexers\u001b[0m\u001b[1;33m[\u001b[0m\u001b[0max\u001b[0m\u001b[1;33m]\u001b[0m \u001b[1;33m=\u001b[0m \u001b[0mobj_labels\u001b[0m\u001b[1;33m.\u001b[0m\u001b[0mget_indexer\u001b[0m\u001b[1;33m(\u001b[0m\u001b[0mnew_labels\u001b[0m\u001b[1;33m)\u001b[0m\u001b[1;33m\u001b[0m\u001b[1;33m\u001b[0m\u001b[0m\n\u001b[0m\u001b[0;32m    592\u001b[0m \u001b[1;33m\u001b[0m\u001b[0m\n\u001b[0;32m    593\u001b[0m                 \u001b[0mmgrs_indexers\u001b[0m\u001b[1;33m.\u001b[0m\u001b[0mappend\u001b[0m\u001b[1;33m(\u001b[0m\u001b[1;33m(\u001b[0m\u001b[0mobj\u001b[0m\u001b[1;33m.\u001b[0m\u001b[0m_mgr\u001b[0m\u001b[1;33m,\u001b[0m \u001b[0mindexers\u001b[0m\u001b[1;33m)\u001b[0m\u001b[1;33m)\u001b[0m\u001b[1;33m\u001b[0m\u001b[1;33m\u001b[0m\u001b[0m\n",
      "\u001b[1;32mD:\\Program Files\\Anaconda\\lib\\site-packages\\pandas\\core\\indexes\\base.py\u001b[0m in \u001b[0;36mget_indexer\u001b[1;34m(self, target, method, limit, tolerance)\u001b[0m\n\u001b[0;32m   3727\u001b[0m \u001b[1;33m\u001b[0m\u001b[0m\n\u001b[0;32m   3728\u001b[0m         \u001b[1;32mif\u001b[0m \u001b[1;32mnot\u001b[0m \u001b[0mself\u001b[0m\u001b[1;33m.\u001b[0m\u001b[0m_index_as_unique\u001b[0m\u001b[1;33m:\u001b[0m\u001b[1;33m\u001b[0m\u001b[1;33m\u001b[0m\u001b[0m\n\u001b[1;32m-> 3729\u001b[1;33m             \u001b[1;32mraise\u001b[0m \u001b[0mInvalidIndexError\u001b[0m\u001b[1;33m(\u001b[0m\u001b[0mself\u001b[0m\u001b[1;33m.\u001b[0m\u001b[0m_requires_unique_msg\u001b[0m\u001b[1;33m)\u001b[0m\u001b[1;33m\u001b[0m\u001b[1;33m\u001b[0m\u001b[0m\n\u001b[0m\u001b[0;32m   3730\u001b[0m \u001b[1;33m\u001b[0m\u001b[0m\n\u001b[0;32m   3731\u001b[0m         \u001b[1;32mif\u001b[0m \u001b[0mlen\u001b[0m\u001b[1;33m(\u001b[0m\u001b[0mtarget\u001b[0m\u001b[1;33m)\u001b[0m \u001b[1;33m==\u001b[0m \u001b[1;36m0\u001b[0m\u001b[1;33m:\u001b[0m\u001b[1;33m\u001b[0m\u001b[1;33m\u001b[0m\u001b[0m\n",
      "\u001b[1;31mInvalidIndexError\u001b[0m: Reindexing only valid with uniquely valued Index objects"
     ]
    }
   ],
   "source": [
    "match_df = pd.concat(all_matches)"
   ]
  },
  {
   "cell_type": "code",
   "execution_count": null,
   "id": "7900fb4b",
   "metadata": {},
   "outputs": [],
   "source": [
    "match_df.columns = [c.lower() for c in match_df.columns]"
   ]
  },
  {
   "cell_type": "code",
   "execution_count": null,
   "id": "b30e98ef",
   "metadata": {},
   "outputs": [],
   "source": [
    "match_df.to_csv(\"matches.csv\")"
   ]
  },
  {
   "cell_type": "code",
   "execution_count": null,
   "id": "bda0d2d9",
   "metadata": {},
   "outputs": [],
   "source": [
    "match_df"
   ]
  },
  {
   "cell_type": "code",
   "execution_count": null,
   "id": "c7830e2a",
   "metadata": {},
   "outputs": [],
   "source": []
  }
 ],
 "metadata": {
  "kernelspec": {
   "display_name": "Python 3 (ipykernel)",
   "language": "python",
   "name": "python3"
  },
  "language_info": {
   "codemirror_mode": {
    "name": "ipython",
    "version": 3
   },
   "file_extension": ".py",
   "mimetype": "text/x-python",
   "name": "python",
   "nbconvert_exporter": "python",
   "pygments_lexer": "ipython3",
   "version": "3.9.13"
  }
 },
 "nbformat": 4,
 "nbformat_minor": 5
}
